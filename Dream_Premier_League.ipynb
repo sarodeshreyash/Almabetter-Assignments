{
  "nbformat": 4,
  "nbformat_minor": 0,
  "metadata": {
    "colab": {
      "provenance": []
    },
    "kernelspec": {
      "name": "python3",
      "display_name": "Python 3"
    }
  },
  "cells": [
    {
      "cell_type": "markdown",
      "metadata": {
        "id": "8hjlpv4ix8LQ"
      },
      "source": [
        "# <u>Dream Premier League (DPL)</u>\n",
        "\n",
        "### A match of DPL is going on. Team Aravali has a made score of **195** for **7** in **20** overs and the opponent Team Shivalik is doing some analytics to find out what they need to do to win. You are the Data Scientist of the Team Shivalik and you have been asked to help them."
      ]
    },
    {
      "cell_type": "markdown",
      "metadata": {
        "id": "JkqzpQzX54Z-"
      },
      "source": [
        "## <u>Problem 1</u>\n",
        " \n",
        "###Team Shivalik has stored the runs made by Team Aravali players in the following dictionary.\n",
        "\n"
      ]
    },
    {
      "cell_type": "code",
      "metadata": {
        "id": "rypcBaB37JMD"
      },
      "source": [
        "aravali ={ \"Dhoni\":25, \"Virat\":31, \"Pollard\":11, \"Rohit\": 0, \"Maxwell\":12, \"Sachin\":59, \"Sehwag\":12 }"
      ],
      "execution_count": 27,
      "outputs": []
    },
    {
      "cell_type": "markdown",
      "metadata": {
        "id": "747H1msbg-ns"
      },
      "source": [
        "### Get the list of all players in Team Aravali"
      ]
    },
    {
      "cell_type": "code",
      "metadata": {
        "id": "poP0TCGdhLuj",
        "colab": {
          "base_uri": "https://localhost:8080/"
        },
        "outputId": "c6662ba3-c2a8-4554-e9c7-a3d9e918548e"
      },
      "source": [
        "# Get the list of players in Team Aravali\n",
        "print(list(aravali.keys()))"
      ],
      "execution_count": 28,
      "outputs": [
        {
          "output_type": "stream",
          "name": "stdout",
          "text": [
            "['Dhoni', 'Virat', 'Pollard', 'Rohit', 'Maxwell', 'Sachin', 'Sehwag']\n"
          ]
        }
      ]
    },
    {
      "cell_type": "markdown",
      "metadata": {
        "id": "YypMEr-i7fCE"
      },
      "source": [
        "## <u>Problem 2</u>\n",
        "\n",
        "### By mistake, the runs made by Rohit was recorded as <code>0</code>. Your next task is to figure out how many runs were made by Rohit and update the dictionary"
      ]
    },
    {
      "cell_type": "code",
      "metadata": {
        "id": "DZTXlt9I51vd"
      },
      "source": [
        "# We know the total runs\n",
        "total_runs = 195\n",
        "\n",
        "# Sum of runs made by the players from Team Aravali\n",
        "runs_according_to_aravali_dict = sum(aravali.values())\n",
        "\n",
        "# Runs made by Rohit\n",
        "rohit_runs = total_runs - runs_according_to_aravali_dict"
      ],
      "execution_count": 29,
      "outputs": []
    },
    {
      "cell_type": "code",
      "metadata": {
        "id": "N46LGzE97waZ",
        "colab": {
          "base_uri": "https://localhost:8080/"
        },
        "outputId": "d616893a-1d9f-4e1e-a4da-5564045e6d9a"
      },
      "source": [
        "# Print runs scored by Rohit\n",
        "print(f'The actual runs made by Rohit is {rohit_runs}')"
      ],
      "execution_count": 30,
      "outputs": [
        {
          "output_type": "stream",
          "name": "stdout",
          "text": [
            "The actual runs made by Rohit is 45\n"
          ]
        }
      ]
    },
    {
      "cell_type": "code",
      "metadata": {
        "id": "4rTAegi67zOq",
        "colab": {
          "base_uri": "https://localhost:8080/"
        },
        "outputId": "98199490-d85a-4019-80ea-5294040581e0"
      },
      "source": [
        "# Update the dictionary with correct value of runs\n",
        "aravali['Rohit'] = rohit_runs\n",
        "print(aravali)"
      ],
      "execution_count": 31,
      "outputs": [
        {
          "output_type": "stream",
          "name": "stdout",
          "text": [
            "{'Dhoni': 25, 'Virat': 31, 'Pollard': 11, 'Rohit': 45, 'Maxwell': 12, 'Sachin': 59, 'Sehwag': 12}\n"
          ]
        }
      ]
    },
    {
      "cell_type": "markdown",
      "metadata": {
        "id": "iM1FJFlWh7C5"
      },
      "source": [
        "## <u>Problem 3</u>\n",
        "\n",
        "#### Your next task is to find out who scored the second highest runs in Team Aravali"
      ]
    },
    {
      "cell_type": "markdown",
      "metadata": {
        "id": "NP8T6swt-fDV"
      },
      "source": [
        "###  <u>Approach 1</u>"
      ]
    },
    {
      "cell_type": "code",
      "metadata": {
        "id": "YPdfTlsKiWVx"
      },
      "source": [
        "# Your code below\n",
        "aravali_copy = aravali.copy()"
      ],
      "execution_count": 32,
      "outputs": []
    },
    {
      "cell_type": "code",
      "metadata": {
        "id": "rchwFGCc7-RU",
        "colab": {
          "base_uri": "https://localhost:8080/"
        },
        "outputId": "630edb6e-9287-49b0-b350-63bf2c5b86ea"
      },
      "source": [
        "aravali_copy"
      ],
      "execution_count": 33,
      "outputs": [
        {
          "output_type": "execute_result",
          "data": {
            "text/plain": [
              "{'Dhoni': 25,\n",
              " 'Virat': 31,\n",
              " 'Pollard': 11,\n",
              " 'Rohit': 45,\n",
              " 'Maxwell': 12,\n",
              " 'Sachin': 59,\n",
              " 'Sehwag': 12}"
            ]
          },
          "metadata": {},
          "execution_count": 33
        }
      ]
    },
    {
      "cell_type": "code",
      "metadata": {
        "id": "ROgmIGYb8BV-",
        "colab": {
          "base_uri": "https://localhost:8080/"
        },
        "outputId": "caee7844-05a5-43c0-8cf3-0edb10ed7b80"
      },
      "source": [
        "max_runs = max(list(aravali_copy.values()))\n",
        "max_run_index = list(aravali_copy.values()).index(max_runs)\n",
        "print(max_run_index)"
      ],
      "execution_count": 34,
      "outputs": [
        {
          "output_type": "stream",
          "name": "stdout",
          "text": [
            "5\n"
          ]
        }
      ]
    },
    {
      "cell_type": "code",
      "metadata": {
        "id": "AGaZ8y208qtB",
        "colab": {
          "base_uri": "https://localhost:8080/"
        },
        "outputId": "94377a76-188f-4da3-c7e6-1bd953085965"
      },
      "source": [
        "aravali_players = list(aravali_copy.keys())\n",
        "print(aravali_players)"
      ],
      "execution_count": 35,
      "outputs": [
        {
          "output_type": "stream",
          "name": "stdout",
          "text": [
            "['Dhoni', 'Virat', 'Pollard', 'Rohit', 'Maxwell', 'Sachin', 'Sehwag']\n"
          ]
        }
      ]
    },
    {
      "cell_type": "code",
      "metadata": {
        "id": "9ZIc_3ZI8q0H"
      },
      "source": [
        "highest_run_scorer = aravali_players[max_run_index]"
      ],
      "execution_count": 36,
      "outputs": []
    },
    {
      "cell_type": "code",
      "metadata": {
        "id": "3JjeRXQ68q4V",
        "colab": {
          "base_uri": "https://localhost:8080/"
        },
        "outputId": "2cae63ce-7e5c-4fcd-e78f-5fffc808a877"
      },
      "source": [
        "aravali_copy.pop(highest_run_scorer)"
      ],
      "execution_count": 37,
      "outputs": [
        {
          "output_type": "execute_result",
          "data": {
            "text/plain": [
              "59"
            ]
          },
          "metadata": {},
          "execution_count": 37
        }
      ]
    },
    {
      "cell_type": "code",
      "metadata": {
        "id": "6W_vQone9Lrq",
        "colab": {
          "base_uri": "https://localhost:8080/"
        },
        "outputId": "6f8add6b-9f56-4ace-c730-21aa59445c98"
      },
      "source": [
        "print(aravali_copy)"
      ],
      "execution_count": 38,
      "outputs": [
        {
          "output_type": "stream",
          "name": "stdout",
          "text": [
            "{'Dhoni': 25, 'Virat': 31, 'Pollard': 11, 'Rohit': 45, 'Maxwell': 12, 'Sehwag': 12}\n"
          ]
        }
      ]
    },
    {
      "cell_type": "code",
      "metadata": {
        "id": "0YBKUfw39Lu0",
        "colab": {
          "base_uri": "https://localhost:8080/"
        },
        "outputId": "9a7c5d40-7c2e-4a23-92a1-861d7f5015f1"
      },
      "source": [
        "max_runs = max(list(aravali_copy.values()))\n",
        "max_run_index = list(aravali_copy.values()).index(max_runs)\n",
        "print(max_run_index)"
      ],
      "execution_count": 39,
      "outputs": [
        {
          "output_type": "stream",
          "name": "stdout",
          "text": [
            "3\n"
          ]
        }
      ]
    },
    {
      "cell_type": "code",
      "metadata": {
        "id": "oCssb6Ke9Z1n",
        "colab": {
          "base_uri": "https://localhost:8080/"
        },
        "outputId": "0327fa3d-1d26-4c0e-a93b-242254c4eb94"
      },
      "source": [
        "aravali_players = list(aravali_copy.keys())\n",
        "print(aravali_players)"
      ],
      "execution_count": 40,
      "outputs": [
        {
          "output_type": "stream",
          "name": "stdout",
          "text": [
            "['Dhoni', 'Virat', 'Pollard', 'Rohit', 'Maxwell', 'Sehwag']\n"
          ]
        }
      ]
    },
    {
      "cell_type": "code",
      "metadata": {
        "id": "vnfepqAw9L4A",
        "colab": {
          "base_uri": "https://localhost:8080/"
        },
        "outputId": "62f0ec22-1202-41aa-e94f-82b734209fc1"
      },
      "source": [
        "print(f'The second highest scorer from Team Aravali is {aravali_players[max_run_index]}')"
      ],
      "execution_count": 41,
      "outputs": [
        {
          "output_type": "stream",
          "name": "stdout",
          "text": [
            "The second highest scorer from Team Aravali is Rohit\n"
          ]
        }
      ]
    },
    {
      "cell_type": "markdown",
      "metadata": {
        "id": "se80XQGBGekX"
      },
      "source": [
        "## <u>Problem 4</u>\n",
        "\n",
        "#### Just out of curiosity, you want to find out the unique runs made by Team Aravali players."
      ]
    },
    {
      "cell_type": "code",
      "metadata": {
        "id": "X-XQWW4lGZaG"
      },
      "source": [
        "# Your code below\n",
        "run_set = set(list(aravali.values()))"
      ],
      "execution_count": 42,
      "outputs": []
    },
    {
      "cell_type": "code",
      "metadata": {
        "id": "GL56nYUzF6hs",
        "colab": {
          "base_uri": "https://localhost:8080/"
        },
        "outputId": "2ffec294-6b61-44a6-8473-2d4a7cdc9c93"
      },
      "source": [
        "# Print the unique runs\n",
        "run_set"
      ],
      "execution_count": 43,
      "outputs": [
        {
          "output_type": "execute_result",
          "data": {
            "text/plain": [
              "{11, 12, 25, 31, 45, 59}"
            ]
          },
          "metadata": {},
          "execution_count": 43
        }
      ]
    },
    {
      "cell_type": "markdown",
      "metadata": {
        "id": "IJvnHaNzeGMP"
      },
      "source": [
        "## <u>Problem 5</u>\n",
        "#### Team Shivalik has 6 fixed players and 5 slots for players who are playing good currently. Create two collections using appropriate data structure to write this 6 fixed and 5 mutable players. You can choose any player you want.\n",
        "\n",
        "#### Available Players in the squad : \n",
        "<code>['Vijay', 'Lasith', 'Dravid', 'Smith', 'Ambati', 'Hardik', 'Sushant', 'Mandeep', 'Harbhajan', 'Yuvraj', 'Jadeja','Rajeev','Amrit']\n"
      ]
    },
    {
      "cell_type": "code",
      "metadata": {
        "id": "-0hTOMTQdEXE"
      },
      "source": [
        "# Your code below\n",
        "fixed = ('Vijay', 'Lasith', 'Dravid', 'Smith', 'Ambati','Hardik')\n",
        "mutable = [ 'Sushant', 'Mandeep', 'Harbhajan', 'Yuvraj', 'Jadeja']"
      ],
      "execution_count": 44,
      "outputs": []
    },
    {
      "cell_type": "code",
      "metadata": {
        "id": "FUIL4iblDTIo",
        "colab": {
          "base_uri": "https://localhost:8080/"
        },
        "outputId": "eaeb8d37-81b5-494d-b4f9-1b7f5b0f2be2"
      },
      "source": [
        "print(fixed)"
      ],
      "execution_count": 45,
      "outputs": [
        {
          "output_type": "stream",
          "name": "stdout",
          "text": [
            "('Vijay', 'Lasith', 'Dravid', 'Smith', 'Ambati', 'Hardik')\n"
          ]
        }
      ]
    },
    {
      "cell_type": "code",
      "metadata": {
        "id": "LRUwyjXzDWyF",
        "colab": {
          "base_uri": "https://localhost:8080/"
        },
        "outputId": "8f7a69ef-29b5-48cc-d84f-6cc12fe4e95f"
      },
      "source": [
        "print(mutable)"
      ],
      "execution_count": 46,
      "outputs": [
        {
          "output_type": "stream",
          "name": "stdout",
          "text": [
            "['Sushant', 'Mandeep', 'Harbhajan', 'Yuvraj', 'Jadeja']\n"
          ]
        }
      ]
    },
    {
      "cell_type": "code",
      "metadata": {
        "id": "1PEvrGDwfjc5",
        "colab": {
          "base_uri": "https://localhost:8080/"
        },
        "outputId": "f7b9afed-134a-4bff-bb7f-6c861fce843b"
      },
      "source": [
        "# Print them on same line using comma to separate them\n",
        "print(f'{fixed},{mutable}')"
      ],
      "execution_count": 47,
      "outputs": [
        {
          "output_type": "stream",
          "name": "stdout",
          "text": [
            "('Vijay', 'Lasith', 'Dravid', 'Smith', 'Ambati', 'Hardik'),['Sushant', 'Mandeep', 'Harbhajan', 'Yuvraj', 'Jadeja']\n"
          ]
        }
      ]
    },
    {
      "cell_type": "code",
      "metadata": {
        "id": "QUR1GgmZDoEF",
        "colab": {
          "base_uri": "https://localhost:8080/"
        },
        "outputId": "3f301c22-6784-4561-9c48-a342257e54ec"
      },
      "source": [
        "help(print)"
      ],
      "execution_count": 48,
      "outputs": [
        {
          "output_type": "stream",
          "name": "stdout",
          "text": [
            "Help on built-in function print in module builtins:\n",
            "\n",
            "print(...)\n",
            "    print(value, ..., sep=' ', end='\\n', file=sys.stdout, flush=False)\n",
            "    \n",
            "    Prints the values to a stream, or to sys.stdout by default.\n",
            "    Optional keyword arguments:\n",
            "    file:  a file-like object (stream); defaults to the current sys.stdout.\n",
            "    sep:   string inserted between values, default a space.\n",
            "    end:   string appended after the last value, default a newline.\n",
            "    flush: whether to forcibly flush the stream.\n",
            "\n"
          ]
        }
      ]
    },
    {
      "cell_type": "code",
      "metadata": {
        "id": "ssuIdJarD2tG",
        "colab": {
          "base_uri": "https://localhost:8080/"
        },
        "outputId": "fe0c172d-9b29-4074-d9c5-d340d28dacad"
      },
      "source": [
        "print(fixed,mutable,sep=\",\")"
      ],
      "execution_count": 49,
      "outputs": [
        {
          "output_type": "stream",
          "name": "stdout",
          "text": [
            "('Vijay', 'Lasith', 'Dravid', 'Smith', 'Ambati', 'Hardik'),['Sushant', 'Mandeep', 'Harbhajan', 'Yuvraj', 'Jadeja']\n"
          ]
        }
      ]
    },
    {
      "cell_type": "code",
      "metadata": {
        "id": "9kpK40sJD9RB",
        "colab": {
          "base_uri": "https://localhost:8080/"
        },
        "outputId": "ff8cc7b7-78d5-4555-8e0e-a7a2e1f08e1c"
      },
      "source": [
        "print(fixed,',',mutable)"
      ],
      "execution_count": 50,
      "outputs": [
        {
          "output_type": "stream",
          "name": "stdout",
          "text": [
            "('Vijay', 'Lasith', 'Dravid', 'Smith', 'Ambati', 'Hardik') , ['Sushant', 'Mandeep', 'Harbhajan', 'Yuvraj', 'Jadeja']\n"
          ]
        }
      ]
    },
    {
      "cell_type": "markdown",
      "metadata": {
        "id": "N-VdT09NfhL6"
      },
      "source": [
        "## <u>Problem 6</u>\n",
        "Try changing fixed player and mutable player"
      ]
    },
    {
      "cell_type": "code",
      "metadata": {
        "id": "E4lN-bxbffnF",
        "colab": {
          "base_uri": "https://localhost:8080/",
          "height": 190
        },
        "outputId": "e4945f0d-d2ea-4847-d2e8-61d1a0e99706"
      },
      "source": [
        "# Change fixed player\n",
        "fixed[0] = 'Risabh'"
      ],
      "execution_count": 51,
      "outputs": [
        {
          "output_type": "error",
          "ename": "TypeError",
          "evalue": "ignored",
          "traceback": [
            "\u001b[0;31m---------------------------------------------------------------------------\u001b[0m",
            "\u001b[0;31mTypeError\u001b[0m                                 Traceback (most recent call last)",
            "\u001b[0;32m<ipython-input-51-7cedb8ee1127>\u001b[0m in \u001b[0;36m<cell line: 2>\u001b[0;34m()\u001b[0m\n\u001b[1;32m      1\u001b[0m \u001b[0;31m# Change fixed player\u001b[0m\u001b[0;34m\u001b[0m\u001b[0;34m\u001b[0m\u001b[0m\n\u001b[0;32m----> 2\u001b[0;31m \u001b[0mfixed\u001b[0m\u001b[0;34m[\u001b[0m\u001b[0;36m0\u001b[0m\u001b[0;34m]\u001b[0m \u001b[0;34m=\u001b[0m \u001b[0;34m'Risabh'\u001b[0m\u001b[0;34m\u001b[0m\u001b[0;34m\u001b[0m\u001b[0m\n\u001b[0m",
            "\u001b[0;31mTypeError\u001b[0m: 'tuple' object does not support item assignment"
          ]
        }
      ]
    },
    {
      "cell_type": "code",
      "metadata": {
        "id": "mbfWHggRgYJK",
        "colab": {
          "base_uri": "https://localhost:8080/"
        },
        "outputId": "b7c1f57b-2f00-4410-c3cf-3ad8a999d476"
      },
      "source": [
        "# Change mutable player\n",
        "mutable[0] = 'Rajeev'\n",
        "mutable"
      ],
      "execution_count": 52,
      "outputs": [
        {
          "output_type": "execute_result",
          "data": {
            "text/plain": [
              "['Rajeev', 'Mandeep', 'Harbhajan', 'Yuvraj', 'Jadeja']"
            ]
          },
          "metadata": {},
          "execution_count": 52
        }
      ]
    },
    {
      "cell_type": "markdown",
      "metadata": {
        "id": "KHrH5V0HFFhq"
      },
      "source": [
        "## <u> Problem 7</u>\n",
        "\n",
        "#### Find out the runrate required for Team Shivalik to win (for 20 overs)<br> \n",
        "#### Hint: Runrate is runs required per over to win the match"
      ]
    },
    {
      "cell_type": "code",
      "metadata": {
        "id": "QFd1CnS5E79X"
      },
      "source": [
        "# Your code here\n",
        "total_runs = 195\n",
        "required_runrate = (total_runs+1)/20"
      ],
      "execution_count": 53,
      "outputs": []
    },
    {
      "cell_type": "code",
      "metadata": {
        "id": "7f5Mnj93Ft3a",
        "colab": {
          "base_uri": "https://localhost:8080/"
        },
        "outputId": "80a7e19b-70b2-4dde-ec79-7b5e71a4d1cf"
      },
      "source": [
        "# Print the run rate\n",
        "print(required_runrate)"
      ],
      "execution_count": 54,
      "outputs": [
        {
          "output_type": "stream",
          "name": "stdout",
          "text": [
            "9.8\n"
          ]
        }
      ]
    },
    {
      "cell_type": "markdown",
      "metadata": {
        "id": "uukQzwZQNwBE"
      },
      "source": [
        "## <u> Problem 8</u>\n",
        "#### You have just received a secret message form your informant stating that some players of the other team are into match fixing. You have to decode a message and inform authorities about it.<br>\n",
        "\n",
        "#### You received a string **\"skdlfjnvuerhw qefnnaosfu qrhviudhfv wuirhv adknlkxjcier vafuvhkajn iuvhsf vasuif KJSHFKJ aeuihvasf akjfhiufe\"** and position of \"i\" are going to be \"no balls\".\n",
        "\n",
        "\n",
        "### Find the first and last no ball from the string."
      ]
    },
    {
      "cell_type": "code",
      "metadata": {
        "id": "qJpki-fNJxvr",
        "colab": {
          "base_uri": "https://localhost:8080/"
        },
        "outputId": "7a263e5f-33e5-4e20-b865-f16db7a2347d"
      },
      "source": [
        "#First no ball\n",
        "message = \"skibhiko\"\n",
        "\n",
        "first_no_ball_number = message.index('i') + 1\n",
        "print(f'The first no ball will be delivered at the number {first_no_ball_number}')"
      ],
      "execution_count": 55,
      "outputs": [
        {
          "output_type": "stream",
          "name": "stdout",
          "text": [
            "The first no ball will be delivered at the number 3\n"
          ]
        }
      ]
    },
    {
      "cell_type": "code",
      "metadata": {
        "id": "N9krTk1aG2n0",
        "colab": {
          "base_uri": "https://localhost:8080/"
        },
        "outputId": "15418831-cd86-4bca-f19a-976c697a8102"
      },
      "source": [
        "# Last no ball\n",
        "reverse_message = message[::-1]\n",
        "\n",
        "# Find the first occurrence in this reversed message\n",
        "no_ball_number = reverse_message.index('i') \n",
        "\n",
        "print(no_ball_number)"
      ],
      "execution_count": 56,
      "outputs": [
        {
          "output_type": "stream",
          "name": "stdout",
          "text": [
            "2\n"
          ]
        }
      ]
    },
    {
      "cell_type": "code",
      "metadata": {
        "id": "8qMvmZydQAlr",
        "colab": {
          "base_uri": "https://localhost:8080/"
        },
        "outputId": "df21fd9b-ca91-4b96-f012-04ff221aac78"
      },
      "source": [
        "# Print the first and last ball numbers\n",
        "message_length = len(message)\n",
        "\n",
        "last_no_ball_number = message_length - no_ball_number\n",
        "\n",
        "print(f'The last no ball will be delivered at the delivery number {last_no_ball_number}')"
      ],
      "execution_count": 57,
      "outputs": [
        {
          "output_type": "stream",
          "name": "stdout",
          "text": [
            "The last no ball will be delivered at the delivery number 6\n"
          ]
        }
      ]
    },
    {
      "cell_type": "markdown",
      "metadata": {
        "id": "dOIGKmlKaV8j"
      },
      "source": [
        "## <u>Problem 9</u>\n",
        "\n",
        "### You have given the information about fixing to the authorities and they are going to verify it during the match. But still you have to work on your strategy.\n",
        "\n",
        "### It is in your hands to automate the decision on who goes on 4th position for batting depending on following criteria:\n",
        "\n",
        "* if runs made by Team Shivalik is less than 50, Smith will play\n",
        "* if runs are between 50 to 100 then Sir Jadeja will go\n",
        "* if runs are above 100 then Hardik will play"
      ]
    },
    {
      "cell_type": "code",
      "metadata": {
        "id": "DpnGURU1Y-Af",
        "colab": {
          "base_uri": "https://localhost:8080/"
        },
        "outputId": "446edaf4-e9d6-47fa-cf30-4a4484a31191"
      },
      "source": [
        "# Your code below\n",
        "shivalik_runs = int(input())"
      ],
      "execution_count": 58,
      "outputs": [
        {
          "name": "stdout",
          "output_type": "stream",
          "text": [
            "55\n"
          ]
        }
      ]
    },
    {
      "cell_type": "code",
      "metadata": {
        "id": "d7eFAZQEJrqU",
        "colab": {
          "base_uri": "https://localhost:8080/"
        },
        "outputId": "3963a39a-7f61-4bea-afc6-01a093625794"
      },
      "source": [
        "print(shivalik_runs)"
      ],
      "execution_count": 59,
      "outputs": [
        {
          "output_type": "stream",
          "name": "stdout",
          "text": [
            "55\n"
          ]
        }
      ]
    },
    {
      "cell_type": "code",
      "metadata": {
        "id": "2CYGOSG9JDc5",
        "colab": {
          "base_uri": "https://localhost:8080/"
        },
        "outputId": "fd21b2d1-4051-4333-e590-f6b56631d0ad"
      },
      "source": [
        "# Write the required if elif else statements\n",
        "\n",
        "if shivalik_runs > 0 and shivalik_runs < 50 :\n",
        "  print(\"Smith will go\")\n",
        "elif shivalik_runs >=50 and shivalik_runs < 100 :\n",
        "  print(\"Sir Jadeja will go\")\n",
        "elif shivalik_runs >=100:\n",
        "  print(\"Send Hardik to bat\")\n",
        "else:\n",
        "  print(\"Invalid runs\")"
      ],
      "execution_count": 60,
      "outputs": [
        {
          "output_type": "stream",
          "name": "stdout",
          "text": [
            "Sir Jadeja will go\n"
          ]
        }
      ]
    },
    {
      "cell_type": "markdown",
      "metadata": {
        "id": "kLakmjOYmKMM"
      },
      "source": [
        "# Hurray! Turns out you won the match and the guilty players are punished as well. You should be proud of yourself!"
      ]
    },
    {
      "cell_type": "code",
      "metadata": {
        "id": "8xRCkwJ76n_I"
      },
      "source": [],
      "execution_count": 60,
      "outputs": []
    }
  ]
}